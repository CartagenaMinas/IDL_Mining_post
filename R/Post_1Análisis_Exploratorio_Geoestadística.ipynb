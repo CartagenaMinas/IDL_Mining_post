{
  "nbformat": 4,
  "nbformat_minor": 0,
  "metadata": {
    "colab": {
      "name": "Análisis Exploratorio - Geoestadística.ipynb",
      "provenance": [],
      "authorship_tag": "ABX9TyO0uMkpMo07iqEf+5hRtvth"
    },
    "kernelspec": {
      "name": "ir",
      "display_name": "R"
    },
    "language_info": {
      "name": "R"
    }
  },
  "cells": [
    {
      "cell_type": "markdown",
      "metadata": {
        "id": "_2srGffmJbrC"
      },
      "source": [
        "[![Open In Colab](https://colab.research.google.com/assets/colab-badge.svg)](https://colab.research.google.com/github/juansensio/axr/blob/master/axr/01_bandits.ipynb)"
      ]
    },
    {
      "cell_type": "markdown",
      "metadata": {
        "id": "hihd3LoF5IlF"
      },
      "source": [
        "# **Análisis Eploratorio Geoestadística**\n",
        "\n",
        "## **1. Conceptos básicos de estadística descriptiva**\n",
        "Primero revisaremos algunos de los conceptos básicos más utilizados:\n",
        "\n",
        "### **Definición 1.1 Atributo:** \n",
        "<p align = \"justify\">Es una propiedad común a todos los objetos en estudio. En el caso de las geociencias, se trata de propiedades físicas, químicas e incluso biológicas.\n",
        "\n",
        "### **Definición 1.2 Variable:** \n",
        "<p align = \"justify\">Es la representación matemática de un atributo, que puede ser cuantitativo o cualitativo.\n",
        "Cuando existe incertidumbre sobre los valores asumidos por una variable, se puede representar mediante una variable aleatoria.\n",
        "\n",
        "### **Definición 1.3 Población:** \n",
        "<p align = \"justify\">Es el conjunto de interés para el problema a estudiar. Sus elementos tienen al menos un atributo en común. Las poblaciones pueden ser finitas o infinitas, discretas o continuas.\n",
        "\n",
        "### **Definición 1.4 Muestra:** \n",
        "<p align = \"justify\">Es un subconjunto representativo y finito de la población. El término *muestra* puede designar un conjunto de observaciones o una observación particular. La selección de muestras es fundamental en un proyecto de geoestadística o estadística.\n",
        "\n",
        "### **Definición 1.5 Unidad Muestral:** \n",
        "<p align = \"justify\">Es la parte más pequeña de la población identificable.\n",
        "En un censo, por ejemplo, es un hogar, ya que sería imposible entrevistar individualmente a cada habitante del país. O un testigo, en el caso de un perforación diamantina.\n",
        "\n",
        "### **Definición 1.6 Soporte:** \n",
        "<p align = \"justify\">Es el modelo geométrico de la unidad de muestreo, en el caso de muestras referenciadas espacialmente.\n",
        "En Geoestadística, el soporte es muy importante en el cálculo de los predictores de kriging.\n",
        "\n",
        "### **Definición 1.7 Estadística:** \n",
        "<p align = \"justify\">Se refiere a una medida calculada sobre la muestra.\n",
        "Las estadísticas comunes son la media, la varianza y la correlación de la muestra.\n",
        "\n",
        "### **Definición 1.8 Parámetro:** \n",
        "<p align = \"justify\">Es un valor calculado a partir de un modelo de variable aleatoria.\n",
        "Los parámetros son extensiones matemáticas de las estadísticas, por lo que hay parámetros de tendencia central, orden, dispersión, etc.\n",
        "\n",
        "### **Definición 1.9 Frecuecia Relativa:** \n",
        "<p align = \"justify\">Es la estadística más comúnmente utilizada, obtenida al dividir el número de veces que ocurrió un evento dado en un experimento u observación por el número de veces que se realizó el experimento u observación.\n",
        "\n",
        "### **Definición 1.10 Estadísticas básicas:** \n",
        "<p align = \"justify\">Son las estadísticas de tendencia central: media, mediana y moda; estadísticas de orden: mínimo, máximo, primer cuartil, segundo cuartil o mediana y tercer cuartil; y una estadística de dispersión: desviación estándar.\n",
        "\n",
        "### **Definición 1.11 Coeficiente:** \n",
        "<p align = \"justify\">Es la relación entre dos estadísticas o parámetros. En el primer caso es un coeficiente de muestreo, en el segundo es un coeficiente de población.\n",
        "\n",
        "### **Definición 1.12 Coeficiente de apuntamiento:** \n",
        "<p align = \"justify\">Es un coeficiente que compara una muestra o distribución poblacional con el valor que tendría este coeficiente para una distribución normal teórica con la misma media y varianza.\n",
        "\n",
        "### **Definición 1.13 Coeficiente de asimetría:** \n",
        "<p align = \"justify\">En el caso de la muestra, indica si el histograma es asimétrico o no.\n",
        "\n",
        "<p align = \"justify\">Ilustraremos el cálculo de estadísticas básicas en un archivo de datos del Panel Intergubernamental sobre Cambios Climáticos (IPCC), llamado <a href=\"https://drive.google.com/drive/folders/1edLTpZEy0CgHPmeR2HAcJW1yhzJigjr4?usp=sharing\">basejan0110</a>, que corresponde a las temperaturas promedio en una región amazónica en los primeros diez años del siglo XX. El archivo se compone de tres columnas: 1 coordenada horizontal Este-Oeste (UTM); 2 coordenada vertical Norte-Sur (UTM); 3 temperatura en grados Celsius multiplicada por 10. La primera línea corresponde al encabezado del archivo con los nombres de las variables. \n",
        "\n",
        "A continuación cargaremos el archivo y presentamos algunas filas de la tabla."
      ]
    },
    {
      "cell_type": "code",
      "metadata": {
        "colab": {
          "base_uri": "https://localhost:8080/",
          "height": 178
        },
        "id": "ANBy3i2Swe86",
        "outputId": "9fe56f01-9aac-44a4-d709-e26e2b272660"
      },
      "source": [
        "amazonia <- read.table(\"basejan0110.txt\", header = TRUE, sep = \" \")\n",
        "head(amazonia)"
      ],
      "execution_count": null,
      "outputs": [
        {
          "output_type": "stream",
          "text": [
            "Warning message in file(file, \"rt\"):\n",
            "“cannot open file 'basejan0110.txt': No such file or directory”\n"
          ],
          "name": "stderr"
        },
        {
          "output_type": "error",
          "ename": "ERROR",
          "evalue": "ignored",
          "traceback": [
            "Error in file(file, \"rt\"): cannot open the connection\nTraceback:\n",
            "1. read.table(\"basejan0110.txt\", header = TRUE, sep = \" \")",
            "2. file(file, \"rt\")"
          ]
        }
      ]
    },
    {
      "cell_type": "markdown",
      "metadata": {
        "id": "CQA45qZo8kdB"
      },
      "source": [
        "Ahora presentamos las estadísticas básicas para cada una de las variables. "
      ]
    },
    {
      "cell_type": "code",
      "metadata": {
        "colab": {
          "base_uri": "https://localhost:8080/",
          "height": 128
        },
        "id": "JA7Fuf389UkD",
        "outputId": "3fd96328-50f1-4659-835b-a4f84074ff96"
      },
      "source": [
        "summary(amazonia)"
      ],
      "execution_count": null,
      "outputs": [
        {
          "output_type": "error",
          "ename": "ERROR",
          "evalue": "ignored",
          "traceback": [
            "Error in summary(amazonia): object 'amazonia' not found\nTraceback:\n",
            "1. summary(amazonia)"
          ]
        }
      ]
    },
    {
      "cell_type": "markdown",
      "metadata": {
        "id": "UmcvIoQu9j6_"
      },
      "source": [
        "### **Definición 1.14 Histograma:** \n",
        "<p align = \"justify\">El histograma representa gráficamente las frecuencias de ocurrencia en función del valor. Consiste en dividir el rango de los valores en intervalos (generalmente, con el mismo ancho) y visualizar la proporción de datos que caben dentro de cada intervalo.\n",
        "\n",
        "<p align = \"justify\">El histograma es una herramienta útil para detectar valores atípicos (“outliers”). Ahora, cabe destacar que un dato atípico no es forzosamente falso y nunca debe ser eliminado sin razón (por ejemplo, un error de trascripción, una falla en el protocolo de medición o un valor ausente codificado como -99). Podría reflejar el comportamiento verdadero de la variable regionalizada y eliminarlo impediría prever la ocurrencia de tales valores en las zonas no muestreadas.\n",
        "\n",
        "<p align = \"justify\">Con el siguiente código mostraremos el histograma de temperaturas del archivo basejan0110.  "
      ]
    },
    {
      "cell_type": "code",
      "metadata": {
        "id": "JmrpOcQBCSeX"
      },
      "source": [
        "grados<-amazonia[,3] #Para realizar el histogramá se usará la 3era columna (Temperatura)\n",
        "h<-hist(grados,breaks=15, main=\"Histograma de densidad y curva normal ajustada\", \n",
        "xlab = \"Temperatura (GradosCelsiusx10)\", ylab = \"Densidad\", probability = TRUE, \n",
        "col = \"bisque\") #Grafica el histograma\n",
        "par(new=TRUE) #Permite superponer gráficos\n",
        "xfit<-seq(240,270, by=1.0)\n",
        "yfit<-dnorm(xfit,mean=mean(grados),sd=sd(grados))  \n",
        "#dnorm sirve para calcular la densidad usando la función de densidad normal de parámetros μ y σ para los valores de xfit.\n",
        "lines(xfit,yfit,col=\"red\",lwd = 2) #Grafica la curva"
      ],
      "execution_count": null,
      "outputs": []
    },
    {
      "cell_type": "markdown",
      "metadata": {
        "id": "R5iinf9jCVim"
      },
      "source": [
        "<p align = \"justify\">La curva roja representa la densidad de una distribución normal con la misma media y varianza. Podemos verificar fácilmente que se trata de un histograma unimodal, asimétrico hacia la izquierda y leptocurtico. El área bajo la función de densidad en el dominio, por definición, es igual a 1."
      ]
    },
    {
      "cell_type": "markdown",
      "metadata": {
        "id": "oRkn_xz4qmpN"
      },
      "source": [
        "### **Definición 1.15 Distribución Acumulada Empírica:** \n",
        "<p align = \"justify\">Proporciona la frecuencia relativa acumulativa de la muestra para cada umbral zk.\n",
        "\n",
        "\n",
        "<p align = \"justify\">Es un gráfico que tiene muchas aplicaciones, por ejemplo, en un modelo de bloques podemos obtener la proporción de bloques que están por debajo de una ley de corte. \n",
        "\n",
        "<p align = \"justify\">Para hacer el gráfico se utliza el comando $plot$ y el comando $ecdf$ sobre los datos de temperatura. Lo vemos en el siguiente código."
      ]
    },
    {
      "cell_type": "code",
      "metadata": {
        "id": "45-2naNbzPfE"
      },
      "source": [
        "grados<-amazonia[,3]\n",
        "plot(ecdf(grados),main=\"Dist. Acumulada Empírica Temp_Jan_0110_Amazonia\",\n",
        "xlab=\"Temperatura (GradosCelsiusx10)\",\n",
        "ylab=\"Frecuencia Relativa Acumulada\")"
      ],
      "execution_count": null,
      "outputs": []
    },
    {
      "cell_type": "markdown",
      "metadata": {
        "id": "_1002gRN-a6w"
      },
      "source": [
        "## **2. Explorando datos espacialmente distribuidos**\n",
        "\n",
        "### **El dataset *Jura***\n",
        "<p align = \"justify\">Este conjunto de datos es de dominio público y está incluido en el paquete $gstat$. Este paquete debe ser instalado para poder tener acceso a los datos.\n"
      ]
    },
    {
      "cell_type": "code",
      "metadata": {
        "id": "XyyXTvoCBbqI"
      },
      "source": [
        "install.packages(\"gstat\")\n",
        "library(gstat)"
      ],
      "execution_count": null,
      "outputs": []
    },
    {
      "cell_type": "markdown",
      "metadata": {
        "id": "eMl7O6FoFn1Y"
      },
      "source": [
        "Para cargar los datos usamos el siguiente comando:"
      ]
    },
    {
      "cell_type": "code",
      "metadata": {
        "id": "wgYH51agEHI-"
      },
      "source": [
        "data(jura)"
      ],
      "execution_count": null,
      "outputs": []
    },
    {
      "cell_type": "markdown",
      "metadata": {
        "id": "ed_JNyZKBXdK"
      },
      "source": [
        "<p align = \"justify\">Los datos están estructurados en un $dataframe$ y representan un levantamiento realizado en Suiza. Son muestreos realizados en 359 pozos, considerando los siguientes atributos: coordenadas, tipo de roca, uso del suelo, contenido de metales pesados. \n",
        "Contiene una muestra de entrenamiento (prediction.dat) y una muestra de validación (validation.dat) con 259 y 100 posiciones respectivamente."
      ]
    },
    {
      "cell_type": "code",
      "metadata": {
        "id": "tDXhd523FxqK"
      },
      "source": [
        "head(prediction.dat)"
      ],
      "execution_count": null,
      "outputs": []
    },
    {
      "cell_type": "markdown",
      "metadata": {
        "id": "PebhxerBF7n_"
      },
      "source": [
        "<p align = \"justify\">Si observamos el dataframe $prediction.dat$ vemos que cuenta con los siguientes componentes: Xloc e Yloc son las coordenadas de posición en km (UTM); El uso de la tierra puede ser 1 (bosque), 2 (pasto), 3 (pradera), 4 (cultivo); el tipo de roca puede ser 1 (Argoviano), 2 (Kimmeridgiano), 3 (Sequaniano), 4 (Portlandiano) e 5 (Cuaternario). Las siguientes columnas se refieren al contenido de los metales pesados Cd, Cu, Pb, Co, Cr, Ni y Zn; ​​en partes por millón (ppm).\n",
        "\n",
        "### **2.1 Despliegue de datos (mapas)**\n",
        "<p align = \"justify\">El despliegue de los datos permite visualizar su ubicación en el espacio. Cuando se trabaja en el espacio tridimensional, el despliegue puede hacerse con proyecciones (plantas y secciones) o vistas en perspectiva. Los mapas de datos pueden incluir información sobre los valores medidos y así dar una idea preliminar de la distribución y continuidad espacial de la variable en estudio, por ejemplo, utilizando símbolos de forma o tamaño variable o\n",
        "escalas de colores / de grises.\n",
        "\n",
        "Vamos a realizar el despliegue de nuestros datos:"
      ]
    },
    {
      "cell_type": "code",
      "metadata": {
        "id": "PqRc4OQ0LTkA"
      },
      "source": [
        "plot(prediction.dat[,1], prediction.dat[,2], xlab = \"Xloc(km)\", ylab = \"Yloc(km)\",\n",
        "main=\"Mapa Base del dataset Jura\")"
      ],
      "execution_count": null,
      "outputs": []
    },
    {
      "cell_type": "markdown",
      "metadata": {
        "id": "SSz8Kh_bO1BB"
      },
      "source": [
        "<p align = \"justify\">Hemos usado el comando $plot$, cuyos primeros dos parámetros son las coordenadas de posición que ocupan las dos primeras columnas del dataframe prediction.dat. Los otros parámetros de comando - xlab, ylab y main - son parámetros descriptivos del mapa, la denominación de cada eje y el título de la figura respectivamente.\n",
        "<p align = \"justify\">Otro enfoque es utilizar los paquetes de datos espaciales $sp$ y $lattice$."
      ]
    },
    {
      "cell_type": "code",
      "metadata": {
        "id": "xgN5hW1pPpWX"
      },
      "source": [
        "install.packages(\"sp\")\n",
        "install.packages(\"lattice\")\n",
        "library(sp)\n",
        "library(lattice)"
      ],
      "execution_count": null,
      "outputs": []
    },
    {
      "cell_type": "code",
      "metadata": {
        "id": "6efK6zvBQBzn"
      },
      "source": [
        "data(jura)\n",
        "coordinates(prediction.dat)<-c(\"Xloc\",\"Yloc\")\n",
        "spplot(prediction.dat, \"Cd\",xlab=\"Xloc(km)\",ylab=\"Yloc(km)\",\n",
        "main=\"Leyes de Cadmio\", col.regions=bpy.colors(5))"
      ],
      "execution_count": null,
      "outputs": []
    },
    {
      "cell_type": "markdown",
      "metadata": {
        "id": "8_br7SCDRAD4"
      },
      "source": [
        "<p align = \"justify\">Si en lugar de una escala de colores desea una escala de tamaño, podemos usar el comando $buble$ del paquete $lattice$:"
      ]
    },
    {
      "cell_type": "code",
      "metadata": {
        "id": "V_YfoplORYVy"
      },
      "source": [
        "data(jura)\n",
        "coordinates(prediction.dat)<-c(\"Xloc\",\"Yloc\")\n",
        "bubble(prediction.dat,\"Cd\", col=\"black\", xlab=\"Xloc(km)\",\n",
        "ylab=\"Yloc(km)\")"
      ],
      "execution_count": null,
      "outputs": []
    },
    {
      "cell_type": "markdown",
      "metadata": {
        "id": "-4mpvqgsUm3R"
      },
      "source": [
        "### **2.2 Diagrama de caja**\n",
        "<p align = \"justify\">El diagrama de caja o boxplot presenta un solo eje en el cual se representan cinco cuantiles: los cuantiles a 2.5%, a 97.5%, el primer cuartil, el segundo cuartil o mediana y el tercer cuartil. Entre los dos cuantiles extremos, se observa el 95% de los datos, mientras que entre el primer cuartil y la mediana se observa el 25% de los datos, al igual que entre la mediana y el tercer cuartil. El diagrama de caja permite resumir algunas características de la distribución, tal como su simetría y su dispersión. También nos permite visualizar los valores atípicos u outliers, que son los que se encuentran fuera de los extremos (inferior y superior) del diagrama de caja. \n",
        "\n",
        "Para obtener este tipo de gráfico se ejecuta el siguiente código:"
      ]
    },
    {
      "cell_type": "code",
      "metadata": {
        "id": "kcwazUGPVeuX"
      },
      "source": [
        "h<-prediction.dat\n",
        "boxplot(h$Cd,h$Co,h$Cr,h$Cu,h$Ni,h$Pb,h$Zn,range=1.5,\n",
        "names=c(\"Cd\",\"Co\" ,\"Cr\",\"Cu\",\"Ni\",\"Pb\",\"Zn\"), \n",
        "main = \"Diagrama de caja de los metales pesados\")"
      ],
      "execution_count": null,
      "outputs": []
    },
    {
      "cell_type": "markdown",
      "metadata": {
        "id": "d9CPfP-AYVrG"
      },
      "source": [
        "### **2.3 Distribución Condicional**\n",
        "<p align = \"justify\">Para realizar una distribución condicional se tiene que hacer uso del comando $subset$, este nos permite obtener un conjunto de datos que cumplen unas condiciones establecidas. Este condicionamiento puede ser realizado para 1 o  más atributos. \n",
        "\n",
        "<p align = \"justify\">Por ejemplo, podemos obtener la distribución acumulada para las leyes de Cadmio pero solo para las muestras que se realizaron en tierras de cultivo. En este ejemplo estaríamos usando el atributo $Landuse$ para condicionar los datos, solo usaremos las observaciones cuyo valor en la columna Landuse es igual a 4 (cultivo).\n",
        "\n",
        "Ejecutaremos el siguiente código:\n"
      ]
    },
    {
      "cell_type": "code",
      "metadata": {
        "id": "DmBNwLSdbW3W"
      },
      "source": [
        "s<-subset(prediction.dat,Landuse==4)\n",
        "plot(ecdf(s$Cd),main=\"Distr. Acumulada Empírica de Cd en áreas\n",
        "de cultivo\",xlab=\"Cd (ppm)\")"
      ],
      "execution_count": null,
      "outputs": []
    },
    {
      "cell_type": "markdown",
      "metadata": {
        "id": "txC8eq6wc779"
      },
      "source": [
        "### **2.4 Muestreo**\n",
        "<p align = \"justify\">Los procedimientos de muestreo básicos son el muestreo aleatorio simple o el muestreo aleatorio estratificado, el muestreo sistemático y el muestreo por conveniencia. Los tres primeros se consideran muestreos probabilísticos. \n",
        "\n",
        "El comando $sample$ de R le permite obtener una muestra de tamaño $n$ a partir de una población finita de valores."
      ]
    },
    {
      "cell_type": "code",
      "metadata": {
        "id": "4tcuwk-xwmFd"
      },
      "source": [
        "indices <- seq(1,259)\n",
        "muestra_indices <- sample(indices,10)\n",
        "muestra <- prediction.dat[muestra_indices,]\n",
        "muestra"
      ],
      "execution_count": null,
      "outputs": []
    },
    {
      "cell_type": "markdown",
      "metadata": {
        "id": "RRyTL6qryvNh"
      },
      "source": [
        "<p align = \"justify\">La primera columna representa los índices originales de registros que ya no forman una secuencia.\n"
      ]
    },
    {
      "cell_type": "markdown",
      "metadata": {
        "id": "JDIC-LC70e8S"
      },
      "source": [
        "## **3. Análisis Exploratorio Bidimensional**\n",
        "<p align = \"justify\">Por lo general, un objeto de estudio se evalúa en más de un atributo, que puede ser cuantitativo o cualitativo. Cuando se trata de un par de atributos, utilizamos las tablas de contingencia cuando ambos son cualitativos, o el diagrama de dispersión cuando ambos son cuantitativos. \n",
        "\n",
        "###**El caso de las variables cualitativas o categóricas**\n",
        "<p align = \"justify\">Cuando las variables son cualitativas, por ejemplo, Landuse y Rocktype, en el caso del conjunto de datos de Jura, algunos comandos muy simples permiten obtener la tabla de contingencia, así como las frecuencias y proporciones marginales.\n",
        "Para el subconjunto prediction.dat, construyamos la tabla de contingencia para estas dos variables:"
      ]
    },
    {
      "cell_type": "code",
      "metadata": {
        "id": "BKTz4-Rf6d0T"
      },
      "source": [
        "#Tabla de Contingencia\n",
        "data(jura)\n",
        "h<- prediction.dat\n",
        "ftable(Landuse~Rock,h)"
      ],
      "execution_count": null,
      "outputs": []
    },
    {
      "cell_type": "markdown",
      "metadata": {
        "id": "XuxrneoA7AWD"
      },
      "source": [
        "Si desea obtener las frecuencias marginales, use el comando $addmargins$:"
      ]
    },
    {
      "cell_type": "code",
      "metadata": {
        "id": "sIUc6QFe7IGv"
      },
      "source": [
        "#Frecuencias marginales\n",
        "Landuse <- h$Landuse\n",
        "Rock <- h$Rock\n",
        "Tabla <- table(Landuse,Rock)\n",
        "Marginales <- addmargins(Tabla) #Agrega el total de cada fila y columna\n",
        "Marginales"
      ],
      "execution_count": null,
      "outputs": []
    },
    {
      "cell_type": "markdown",
      "metadata": {
        "id": "n-YhtLEA74rT"
      },
      "source": [
        "<p align = \"justify\">El cálculo de las proporciones esperadas y observadas es necesario para realizar pruebas de hipótesis. El comando $prop.table$ permite este cálculo (en este caso, los valores se representarán con un punto decimal)."
      ]
    },
    {
      "cell_type": "code",
      "metadata": {
        "id": "rLltq5YE8BnM"
      },
      "source": [
        "Tabla2 <- prop.table(Tabla)\n",
        "Marginales2 <- addmargins(Tabla2)\n",
        "Marginales2"
      ],
      "execution_count": null,
      "outputs": []
    },
    {
      "cell_type": "markdown",
      "metadata": {
        "id": "YPBpszrq9Bz7"
      },
      "source": [
        "<p align = \"justify\">La otra situación que veremos involucra atributos cuantitativos. Por ejemplo, ¿el contenido de Cd y Pb tiene un comportamiento conjunto observable? Un gráfico muy sencillo que permite una primera observación es el diagrama de dispersión. Para dibujarlo, usaremos nuevamente el comando $plot$.\n",
        "\n",
        "### **3.1 Dispersograma**\n",
        "<p align = \"justify\">Este gráfico nos permite visualizar los valores de una variable en función de otra, lo cual requiere que ambas variables hayan sido medidas en los mismos sitios. Sirve para ver la relación par a par o “correlación” de ambas variables, así como detectar datos atípicos\n",
        "(puntos que se alejan del resto de la nube).\n",
        "\n",
        "Un dispersograma se realiza con el siguiente código:\n",
        "\n",
        "\n"
      ]
    },
    {
      "cell_type": "code",
      "metadata": {
        "id": "W05P9eUH2xbc"
      },
      "source": [
        "plot(h$Cd, h$Pb, xlab = \"Cd(ppm)\", ylab = \"Pb(ppm)\", pch = 16,\n",
        "main = \"Dispersograma de Cadmio y Plomo\")"
      ],
      "execution_count": null,
      "outputs": []
    },
    {
      "cell_type": "markdown",
      "metadata": {
        "id": "6S_DcZRs4m31"
      },
      "source": [
        "<p align = \"justify\">La relación entre dos variables puede ser resumida a través de un coeficiente, llamado coeficiente de correlación lineal, que mide el grado de “proporcionalidad” que existe entre ambas variables. Este coeficiente tiene un valor entre -1 y 1 (estos extremos corresponden al caso en el cual las variables son exactamente proporcionales entre sí, con un coeficiente de proporcionalidad negativo o positivo, respectivamente).\n",
        "\n",
        "En R, el comando que le permite hacer este cálculo es el siguiente:"
      ]
    },
    {
      "cell_type": "code",
      "metadata": {
        "id": "3z_bYx6W45Qi"
      },
      "source": [
        "#Coeficiente de correlación usando el método de Pearson (default)\n",
        "cor(h$Cd,h$Pb)\n",
        "#Coeficiente de correlación usando el método de Kendall\n",
        "cor(h$Cd,h$Pb, method=\"kendall\")\n",
        "#Coeficiente de correlación usando el método de Spearman\n",
        "cor(h$Cd,h$Pb, method=\"spearman\")"
      ],
      "execution_count": null,
      "outputs": []
    },
    {
      "cell_type": "markdown",
      "metadata": {
        "id": "sVT8r7eO5vNs"
      },
      "source": [
        "<p align = \"justify\">En los tres casos los valores se acercan a cero, lo que significa una baja intensidad de asociación directa.\n",
        "\n",
        "### **3.2 Semivariograma**\n",
        "<p align = \"justify\">Si para un valor dado de $h$, reunimos todos los pares de la muestra que están distantes $h$, y calculamos la media del cuadrado de la diferencia entre los valores de la variable observada, tenemos una medida numérica de la diferencia entre estos valores en función de la distancia $h$. El semivariograma es una función que mide la disimilitud entre pares de puntos que pertenecen a una cierta clase de distancia $h$. \n",
        "\n",
        "La fórmula matemática es:\n",
        "\n",
        "![Semivariograma.PNG](data:image/png;base64,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)\n",
        "\n",
        "<p align = \"justify\">Donde $Z(x)$ es el valor de la variable en un sitio $x$, $Z(x+h)$ es otro valor muestral separado del anterior por una distancia $h$ y $n$ es el número de parejas que se encuentran separadas por dicha distancia. La función de semivarianza se calcula para varias distancias $h$.\n",
        "\n",
        "<p align = \"justify\">La fórmula se corrige con un factor igual a 0.5 por motivos que se explicarán posteriormente, pero es debido a ello que se usa el termino de $semiovariograma$ generalmente."
      ]
    },
    {
      "cell_type": "markdown",
      "metadata": {
        "id": "gcN53h76ka0F"
      },
      "source": [
        "![images.jfif](data:image/jpeg;base64,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)"
      ]
    },
    {
      "cell_type": "markdown",
      "metadata": {
        "id": "kYZGhv5bdso-"
      },
      "source": [
        "<p align = \"justify\">Si usamos la data $Jura$ y la variable $Cadmio$, el gráfico de semivariograma experimental (muestral), considerando solo la distancia (sin tomar en cuenta la dirección), se da con el siguiente código:"
      ]
    },
    {
      "cell_type": "code",
      "metadata": {
        "id": "24dMWZ_8b8qn"
      },
      "source": [
        "data(jura) \n",
        "g <- gstat(id = \"Cd\", formula = Cd~1, locations = ~Xloc+Yloc,\n",
        "data = prediction.dat)\n",
        "#id es el nombre de la variable que se va usar.\n",
        "#formula=Cd~1 significa que no se harán transformaciones sobre los valores originales.\n",
        "#locations son las coordenadas de posición.\n",
        "#data es el nombre del archivo en el que se encuentran los datos.\n",
        "graf<-variogram(g)\n",
        "plot(graf, col = \"black\", pch = 16, cex = 1.1)"
      ],
      "execution_count": null,
      "outputs": []
    },
    {
      "cell_type": "markdown",
      "metadata": {
        "id": "so4vLXm0cE8-"
      },
      "source": [
        "<p align = \"justify\">Se puede observar que la dispersión de los pares de valores se estabilizan alrededor de 0.8 (meseta total) desde aproximadamente 1km (rango o alcance), también se observa que, cerca del origen, el gráfico comienza un poco por encima de 0.5 (efecto pepita) .\n",
        "\n",
        "\n",
        "El archivo de pares de puntos, según su distancia (h), se puede ver de la siguiente manera:"
      ]
    },
    {
      "cell_type": "code",
      "metadata": {
        "id": "jq_gxslllRYU"
      },
      "source": [
        "graf[,1:3]"
      ],
      "execution_count": null,
      "outputs": []
    },
    {
      "cell_type": "markdown",
      "metadata": {
        "id": "v7z94E00k2fN"
      },
      "source": [
        "<p align = \"justify\">La primera columa $np$ es el número de pares, la distancia es la $h$ usada para el cálculo de los pares y $gamma$ es el valor del semivariograma.\n",
        "<p align = \"justify\">El comportamiento del semivariograma puede variar con la dirección, a continuación se ilustran los diferentes semivariogramas en función de la dirección:"
      ]
    },
    {
      "cell_type": "code",
      "metadata": {
        "id": "fDi2D0EhsWsp"
      },
      "source": [
        "data = prediction.dat\n",
        "g <- gstat(id = \"Cd\", formula = Cd~1, locations =\n",
        "~Xloc+Yloc,\n",
        "data = prediction.dat)\n",
        "v<-variogram(g, alpha=0,tol.hor=30)\n",
        "p1<-plot(v, xlab=\"lag\",ylab=\"semivariance\",main=\"direcional_\n",
        "0\",col=\"red\", pch=16)\n",
        "v<-variogram(g, alpha=30,tol.hor=30)\n",
        "p2<-plot(v, xlab=\"lag\",ylab=\"semivariance\",main=\"direcional_\n",
        "30\",col=\"red\", pch=16)\n",
        "v<-variogram(g, alpha=60,tol.hor=30)\n",
        "p3<-plot(v, xlab=\"lag\",ylab=\"semivariance\",main=\"direcional_\n",
        "60\",col=\"red\", pch=16)\n",
        "v<-variogram(g, alpha=90,tol.hor=30)\n",
        "p4<-plot(v, xlab=\"lag\",ylab=\"semivariance\",main=\"direcional_\n",
        "90\",col=\"red\", pch=16)\n",
        "\n",
        "print(p1,split=c(1,1,2,2),more=TRUE)\n",
        "print(p2,split=c(1,2,2,2),more=TRUE)\n",
        "print(p3,split=c(2,1,2,2),more=TRUE)\n",
        "print(p4,split=c(2,2,2,2))"
      ],
      "execution_count": null,
      "outputs": []
    },
    {
      "cell_type": "markdown",
      "metadata": {
        "id": "u7gCygA-sz3b"
      },
      "source": [
        "<p align = \"justify\">Otra forma de visualizar semivariogramas direccionales es el mapa variográfico, que representa bloques de colores en el plano de acuerdo con el valor aproximado del semivariograma experimental.\n"
      ]
    },
    {
      "cell_type": "code",
      "metadata": {
        "id": "iy0qdM6UtaDn"
      },
      "source": [
        "g<-gstat(id=\"Cd\", formula=Cd~1, locations=~Xloc+Yloc,\n",
        "data = prediction.dat)\n",
        "plot(variogram(g,cutoff=5,width=0.5,map=TRUE),main=\"Mapa Variográfico del Cadmio\") \n",
        "#map = TRUE para obtener el mapa variográfico.\n",
        "#cutoff es la distancia máxima entre pares que será considerada. \n",
        "#width es el tamaño del lag."
      ],
      "execution_count": null,
      "outputs": []
    },
    {
      "cell_type": "markdown",
      "metadata": {
        "id": "LYPqNf7Nubae"
      },
      "source": [
        "<p align = \"justify\">Podemos apreciar el efecto de la anisotropía, mostrando que en el rango de direcciones de 0° a 30° la meseta se alcanza a partir de 4 km en adelante, a diferencia del rango de 60° a 120°, donde el semivariograma se estabiliza a menor distancia.\n",
        "\n",
        "## **Conclusión**\n",
        "<p align = \"justify\">En este primer post, además de revisar algunos conceptos básicos de la estadística exploratoria, presentamos algunos códgiso en R que nos ayudan en el cálculo y la representación gráfica. También vimos algunas estadísticas bivariadas, incluido el semivariograma, que es una estadística bivariada indexada en el espacio. \n",
        "<p align = \"justify\">Más adelante revisaremos los conceptos de probabilidad y variables aleatorias; presentaremos el concepto de función aleatoria, que es una generalización del concepto de vector aleatorio, así como sus propiedades más importantes como la estacionariedad de primer y segundo orden. "
      ]
    }
  ]
}